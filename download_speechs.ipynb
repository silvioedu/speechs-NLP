{
 "cells": [
  {
   "cell_type": "code",
   "execution_count": 1,
   "metadata": {},
   "outputs": [
    {
     "name": "stdout",
     "output_type": "stream",
     "text": [
      "Requirement already satisfied: unidecode in c:\\users\\silvio\\anaconda3\\lib\\site-packages (1.2.0)\n"
     ]
    }
   ],
   "source": [
    "!pip install unidecode"
   ]
  },
  {
   "cell_type": "code",
   "execution_count": 2,
   "metadata": {},
   "outputs": [],
   "source": [
    "import warnings\n",
    "import requests as req\n",
    "import numpy as np\n",
    "import pandas as pd\n",
    "import os\n",
    "import json\n",
    "\n",
    "from bs4 import BeautifulSoup\n",
    "from unidecode import unidecode\n",
    "\n",
    "warnings.filterwarnings('ignore')"
   ]
  },
  {
   "cell_type": "markdown",
   "metadata": {},
   "source": [
    "## Constants definitions"
   ]
  },
  {
   "cell_type": "code",
   "execution_count": 3,
   "metadata": {},
   "outputs": [],
   "source": [
    "URL = 'https://www.gov.br/planalto/pt-br/acompanhe-o-planalto/discursos'\n",
    "JSON_DIR = 'speechs'"
   ]
  },
  {
   "cell_type": "markdown",
   "metadata": {},
   "source": [
    "## Functions"
   ]
  },
  {
   "cell_type": "code",
   "execution_count": 4,
   "metadata": {},
   "outputs": [],
   "source": [
    "def get_url(url):\n",
    "    response = req.get(url)\n",
    "    if response.status_code != 200:\n",
    "        print(f'Error {response.status_code} fetching {url}')\n",
    "\n",
    "    return BeautifulSoup(response.text)\n",
    "\n",
    "def create_savedir(dir):\n",
    "    try:\n",
    "        os.makedirs(dir)\n",
    "        print('Directory created successfully')\n",
    "    except OSError:\n",
    "        print('Directory already exists')\n"
   ]
  },
  {
   "cell_type": "markdown",
   "metadata": {},
   "source": [
    "## Classes"
   ]
  },
  {
   "cell_type": "code",
   "execution_count": 5,
   "metadata": {},
   "outputs": [],
   "source": [
    "class WebPage():\n",
    "\n",
    "    def __init__(self, url):\n",
    "        self.url = url\n",
    "        self.max_page = self.number_of_pages()\n",
    "        self.pages_list = self.pages_list()\n",
    "        \n",
    "    def number_of_pages(self):\n",
    "        bs = get_url(self.url)\n",
    "        pagination = bs.find(class_='paginacao listingBar')\n",
    "        max_page = np.array([int(page_index.text) \n",
    "                             for page_index in pagination.find_all('a', href=True) \n",
    "                             if page_index.text.isdecimal()]).max()\n",
    "        return int(max_page)\n",
    "\n",
    "    def pages_list(self):\n",
    "        pages_list = []\n",
    "        prefix = '?b_start:int='\n",
    "        [pages_list.append(self.url + prefix + str(idx * 30)) for idx in range(self.max_page)]\n",
    "        return pages_list\n",
    "    \n",
    "    def save_articles(self):\n",
    "        for page_url in self.pages_list:\n",
    "            print(f'Saving articles from {page_url}')\n",
    "            bs = get_url(page_url)\n",
    "\n",
    "            articles = []\n",
    "            for article in bs.find_all('article'):\n",
    "                article = Article(article)\n",
    "                article.save_to_json(JSON_DIR)\n",
    "\n",
    "        print('Articles saved sucessfully')"
   ]
  },
  {
   "cell_type": "code",
   "execution_count": 6,
   "metadata": {},
   "outputs": [],
   "source": [
    "class Article():\n",
    "    \n",
    "    def __init__(self, article=None):\n",
    "        \n",
    "        if article is not None:\n",
    "            self.link = article.find(class_='summary url')['href']\n",
    "\n",
    "            datetime = article.find_all(class_='summary-view-icon')\n",
    "            date = datetime[0].text.strip()\n",
    "            self.date = \"\".join(reversed(date.split('/')))\n",
    "\n",
    "            self.time = datetime[1].text.strip()\n",
    "\n",
    "            content = get_url(self.link).find(id='parent-fieldname-text').text.strip()\n",
    "            self.content = unidecode(content).replace('\\n','')\n",
    "    \n",
    "    def __str__(self):\n",
    "        return f'Article link:{self.link}, date:{self.date}, time:{self.time}, content:{self.content}'\n",
    "\n",
    "    def save_to_json(self, folder):\n",
    "        path = os.path.join(folder, f'{self.date}-{self.time}.json')\n",
    "        with open(path, 'w') as file:\n",
    "            json.dump(self.__dict__, file)\n",
    "\n",
    "    def load_from_json(folder):\n",
    "        files = os.listdir(folder)\n",
    "        \n",
    "        articles = []\n",
    "        for file in files:\n",
    "            path = os.path.join(folder, file)\n",
    "            with open(path, 'r') as file:\n",
    "                data = json.load(file)\n",
    "                article = Article()\n",
    "                article.link = data['link']\n",
    "                article.date = data['date']\n",
    "                article.time = data['time']\n",
    "                article.content = data['content']\n",
    "                articles.append(article.__dict__)\n",
    "        print(f'{len(articles)} articles loaded sucessfully')\n",
    "        return articles\n",
    "                "
   ]
  },
  {
   "cell_type": "markdown",
   "metadata": {},
   "source": [
    "## Load and save process"
   ]
  },
  {
   "cell_type": "code",
   "execution_count": 7,
   "metadata": {},
   "outputs": [
    {
     "name": "stdout",
     "output_type": "stream",
     "text": [
      "Directory created successfully\n"
     ]
    }
   ],
   "source": [
    "create_savedir(JSON_DIR)"
   ]
  },
  {
   "cell_type": "code",
   "execution_count": 8,
   "metadata": {},
   "outputs": [
    {
     "name": "stdout",
     "output_type": "stream",
     "text": [
      "Saving articles from https://www.gov.br/planalto/pt-br/acompanhe-o-planalto/discursos?b_start:int=0\n",
      "Saving articles from https://www.gov.br/planalto/pt-br/acompanhe-o-planalto/discursos?b_start:int=30\n",
      "Saving articles from https://www.gov.br/planalto/pt-br/acompanhe-o-planalto/discursos?b_start:int=60\n",
      "Saving articles from https://www.gov.br/planalto/pt-br/acompanhe-o-planalto/discursos?b_start:int=90\n",
      "Saving articles from https://www.gov.br/planalto/pt-br/acompanhe-o-planalto/discursos?b_start:int=120\n",
      "Saving articles from https://www.gov.br/planalto/pt-br/acompanhe-o-planalto/discursos?b_start:int=150\n",
      "Saving articles from https://www.gov.br/planalto/pt-br/acompanhe-o-planalto/discursos?b_start:int=180\n",
      "Saving articles from https://www.gov.br/planalto/pt-br/acompanhe-o-planalto/discursos?b_start:int=210\n",
      "Saving articles from https://www.gov.br/planalto/pt-br/acompanhe-o-planalto/discursos?b_start:int=240\n",
      "Saving articles from https://www.gov.br/planalto/pt-br/acompanhe-o-planalto/discursos?b_start:int=270\n",
      "Saving articles from https://www.gov.br/planalto/pt-br/acompanhe-o-planalto/discursos?b_start:int=300\n",
      "Saving articles from https://www.gov.br/planalto/pt-br/acompanhe-o-planalto/discursos?b_start:int=330\n",
      "Saving articles from https://www.gov.br/planalto/pt-br/acompanhe-o-planalto/discursos?b_start:int=360\n",
      "Articles saved sucessfully\n"
     ]
    }
   ],
   "source": [
    "webpage = WebPage(URL)\n",
    "webpage.save_articles()"
   ]
  },
  {
   "cell_type": "markdown",
   "metadata": {},
   "source": [
    "## Load process"
   ]
  },
  {
   "cell_type": "code",
   "execution_count": 9,
   "metadata": {},
   "outputs": [
    {
     "name": "stdout",
     "output_type": "stream",
     "text": [
      "361 articles loaded sucessfully\n"
     ]
    }
   ],
   "source": [
    "articles = Article.load_from_json(JSON_DIR)"
   ]
  },
  {
   "cell_type": "code",
   "execution_count": 10,
   "metadata": {},
   "outputs": [
    {
     "data": {
      "text/html": [
       "<div>\n",
       "<style scoped>\n",
       "    .dataframe tbody tr th:only-of-type {\n",
       "        vertical-align: middle;\n",
       "    }\n",
       "\n",
       "    .dataframe tbody tr th {\n",
       "        vertical-align: top;\n",
       "    }\n",
       "\n",
       "    .dataframe thead th {\n",
       "        text-align: right;\n",
       "    }\n",
       "</style>\n",
       "<table border=\"1\" class=\"dataframe\">\n",
       "  <thead>\n",
       "    <tr style=\"text-align: right;\">\n",
       "      <th></th>\n",
       "      <th>link</th>\n",
       "      <th>date</th>\n",
       "      <th>time</th>\n",
       "      <th>content</th>\n",
       "    </tr>\n",
       "  </thead>\n",
       "  <tbody>\n",
       "    <tr>\n",
       "      <th>0</th>\n",
       "      <td>https://www.gov.br/planalto/pt-br/acompanhe-o-...</td>\n",
       "      <td>20190101</td>\n",
       "      <td>15h10</td>\n",
       "      <td>Congresso Nacional, 01 de janeiro de 2019 Exce...</td>\n",
       "    </tr>\n",
       "    <tr>\n",
       "      <th>1</th>\n",
       "      <td>https://www.gov.br/planalto/pt-br/acompanhe-o-...</td>\n",
       "      <td>20190101</td>\n",
       "      <td>16h45</td>\n",
       "      <td>Palacio do Planalto, 01 de janeiro de 2018    ...</td>\n",
       "    </tr>\n",
       "    <tr>\n",
       "      <th>2</th>\n",
       "      <td>https://www.gov.br/planalto/pt-br/acompanhe-o-...</td>\n",
       "      <td>20190102</td>\n",
       "      <td>17h21</td>\n",
       "      <td>Brasilia-DF, 02 de janeiro de 2019            ...</td>\n",
       "    </tr>\n",
       "    <tr>\n",
       "      <th>3</th>\n",
       "      <td>https://www.gov.br/planalto/pt-br/acompanhe-o-...</td>\n",
       "      <td>20190107</td>\n",
       "      <td>12h20</td>\n",
       "      <td>Brasilia-DF, 07 de janeiro de 2019 Senhor vice...</td>\n",
       "    </tr>\n",
       "    <tr>\n",
       "      <th>4</th>\n",
       "      <td>https://www.gov.br/planalto/pt-br/acompanhe-o-...</td>\n",
       "      <td>20190115</td>\n",
       "      <td>12h10</td>\n",
       "      <td>Brasilia/DF, 15 de janeiro de 2019 Como o povo...</td>\n",
       "    </tr>\n",
       "    <tr>\n",
       "      <th>...</th>\n",
       "      <td>...</td>\n",
       "      <td>...</td>\n",
       "      <td>...</td>\n",
       "      <td>...</td>\n",
       "    </tr>\n",
       "    <tr>\n",
       "      <th>356</th>\n",
       "      <td>https://www.gov.br/planalto/pt-br/acompanhe-o-...</td>\n",
       "      <td>20210322</td>\n",
       "      <td>12h32</td>\n",
       "      <td>Palacio do Planalto, 22 de marco de 2021  Bom ...</td>\n",
       "    </tr>\n",
       "    <tr>\n",
       "      <th>357</th>\n",
       "      <td>https://www.gov.br/planalto/pt-br/acompanhe-o-...</td>\n",
       "      <td>20210322</td>\n",
       "      <td>19h14</td>\n",
       "      <td>Palacio do Planalto, 22 de marco de 2021Boa ta...</td>\n",
       "    </tr>\n",
       "    <tr>\n",
       "      <th>358</th>\n",
       "      <td>https://www.gov.br/planalto/pt-br/acompanhe-o-...</td>\n",
       "      <td>20210325</td>\n",
       "      <td>17h46</td>\n",
       "      <td>Palacio do Planalto, 25 de marco de 2021 Boa t...</td>\n",
       "    </tr>\n",
       "    <tr>\n",
       "      <th>359</th>\n",
       "      <td>https://www.gov.br/planalto/pt-br/acompanhe-o-...</td>\n",
       "      <td>20210326</td>\n",
       "      <td>11h08</td>\n",
       "      <td>Bom dia.E com satisfacao que tomo parte nesta ...</td>\n",
       "    </tr>\n",
       "    <tr>\n",
       "      <th>360</th>\n",
       "      <td>https://www.gov.br/planalto/pt-br/acompanhe-o-...</td>\n",
       "      <td>20210405</td>\n",
       "      <td>16h50</td>\n",
       "      <td>O senhor governador Ibaneis.Prezado presidente...</td>\n",
       "    </tr>\n",
       "  </tbody>\n",
       "</table>\n",
       "<p>361 rows × 4 columns</p>\n",
       "</div>"
      ],
      "text/plain": [
       "                                                  link      date   time  \\\n",
       "0    https://www.gov.br/planalto/pt-br/acompanhe-o-...  20190101  15h10   \n",
       "1    https://www.gov.br/planalto/pt-br/acompanhe-o-...  20190101  16h45   \n",
       "2    https://www.gov.br/planalto/pt-br/acompanhe-o-...  20190102  17h21   \n",
       "3    https://www.gov.br/planalto/pt-br/acompanhe-o-...  20190107  12h20   \n",
       "4    https://www.gov.br/planalto/pt-br/acompanhe-o-...  20190115  12h10   \n",
       "..                                                 ...       ...    ...   \n",
       "356  https://www.gov.br/planalto/pt-br/acompanhe-o-...  20210322  12h32   \n",
       "357  https://www.gov.br/planalto/pt-br/acompanhe-o-...  20210322  19h14   \n",
       "358  https://www.gov.br/planalto/pt-br/acompanhe-o-...  20210325  17h46   \n",
       "359  https://www.gov.br/planalto/pt-br/acompanhe-o-...  20210326  11h08   \n",
       "360  https://www.gov.br/planalto/pt-br/acompanhe-o-...  20210405  16h50   \n",
       "\n",
       "                                               content  \n",
       "0    Congresso Nacional, 01 de janeiro de 2019 Exce...  \n",
       "1    Palacio do Planalto, 01 de janeiro de 2018    ...  \n",
       "2    Brasilia-DF, 02 de janeiro de 2019            ...  \n",
       "3    Brasilia-DF, 07 de janeiro de 2019 Senhor vice...  \n",
       "4    Brasilia/DF, 15 de janeiro de 2019 Como o povo...  \n",
       "..                                                 ...  \n",
       "356  Palacio do Planalto, 22 de marco de 2021  Bom ...  \n",
       "357  Palacio do Planalto, 22 de marco de 2021Boa ta...  \n",
       "358  Palacio do Planalto, 25 de marco de 2021 Boa t...  \n",
       "359  Bom dia.E com satisfacao que tomo parte nesta ...  \n",
       "360  O senhor governador Ibaneis.Prezado presidente...  \n",
       "\n",
       "[361 rows x 4 columns]"
      ]
     },
     "execution_count": 10,
     "metadata": {},
     "output_type": "execute_result"
    }
   ],
   "source": [
    "df = pd.DataFrame(articles)\n",
    "df"
   ]
  },
  {
   "cell_type": "code",
   "execution_count": 11,
   "metadata": {},
   "outputs": [
    {
     "data": {
      "text/plain": [
       "'Congresso Nacional, 01 de janeiro de 2019 Excelentissimo presidente do Congresso Nacional, senador Eunicio Oliveira, Senhoras e senhores chefes de Estado, chefes de Governo, vice-chefes de Estado e vice-chefes de Governo, que me honram com suas presencas. Vice-presidente da Republica Federativa do Brasil, Hamilton Mourao, meu contemporaneo de Academia Militar de Agulhas Negras, Presidente da Camara dos Deputados, prezado amigo e companheiro, deputado Rodrigo Maia, Ex-presidentes da Republica Federativa do Brasil, senhor Jose Sarney, senhor Fernando Collor de Mello, Presidente do Supremo Tribunal Federal, ministro Dias Toffoli, Senhoras e senhores ministros de Estado e comandantes das Forcas aqui presentes, Procuradora-Geral da Republica, Raquel Dodge,Senhoras e senhores governadores,Senhoras e senhores senadores e deputados federais,Senhoras e senhores chefes de missoes estrangeiras acreditados junto ao governo brasileiro,Minha querida esposa Michelle, daqui vizinha Ceilandia, Meus filhos e familiares aqui presentes - a conheci aqui na Camara. Brasileiros e brasileiras,  Primeiro, quero agradecer a Deus por estar vivo. Que, pelas maos de profissionais da Santa Casa de Juiz de Fora, operaram um verdadeiro milagre, Obrigado, meu Deus!Com humildade, volto a esta Casa, onde, por 28 anos, me empenhei em servir a nacao brasileira, travei grandes embates e acumulei experiencias e aprendizados que me deram a oportunidade de crescer e amadurecer.Volto a esta Casa, nao mais como deputado, mas como Presidente da Republica Federativa do Brasil, mandato a mim confiado pela vontade soberana do povo brasileiro.Hoje, aqui estou, fortalecido, emocionado e profundamente agradecido a Deus, pela minha vida, e aos brasileiros, que confiaram a mim a honrosa missao de governar o Brasil, neste periodo de grandes desafios e, ao mesmo tempo, de enorme esperanca. Governar com voces.Aproveito este momento solene e convoco cada um dos Congressistas para me ajudarem na missao de restaurar e de reerguer nossa Patria, libertando-a, definitivamente, do jugo da corrupcao, da criminalidade, da irresponsabilidade economica e da submissao ideologica.Temos, diante de nos, uma oportunidade unica de reconstruir o nosso Pais e de resgatar a esperanca dos nossos compatriotas.Estou certo de que enfrentaremos enormes desafios, mas, se tivermos a sabedoria de ouvir a voz do povo, alcancaremos exito em nossos objetivos, e, pelo exemplo e pelo trabalho, levaremos as futuras geracoes a nos seguir nesta tarefa gloriosa.Vamos unir o povo, valorizar a familia, respeitar as religioes e nossa tradicao judaico-crista, combater a ideologia de genero, conservando nossos valores. O Brasil voltara a ser um Pais livre das amarras ideologicas.Pretendo partilhar o poder, de forma progressiva, responsavel e consciente, de Brasilia para o Brasil; do Poder Central para Estados e Municipios.Minha campanha eleitoral atendeu ao chamado das ruas e forjou o compromisso de colocar o Brasil acima de tudo e Deus acima de todos.Por isso, quando os inimigos da Patria, da ordem e da liberdade tentaram por fim a minha vida, milhoes de brasileiros foram as ruas. Uma campanha eleitoral transformou-se em um movimento civico, cobriu-se de verde e amarelo, tornou-se espontaneo, forte e indestrutivel, e nos trouxe ate aqui.Nada aconteceria sem o esforco e o engajamento de cada um dos brasileiros que tomaram as ruas para preservar nossa liberdade e democracia.Reafirmo meu compromisso de construir uma sociedade sem discriminacao ou divisao.Daqui em diante, nos pautaremos pela vontade soberana daqueles brasileiros: que querem boas escolas, capazes de preparar seus filhos para o mercado de trabalho e nao para a militancia politica; que sonham com a liberdade de ir e vir, sem serem vitimados pelo crime; que desejam conquistar, pelo merito, bons empregos e sustentar com dignidade suas familias; que exigem saude, educacao, infraestrutura e saneamento basico, em respeito aos direitos e garantias fundamentais da nossa Constituicao.O Pavilhao Nacional nos remete a \"Ordem e ao Progresso\".Nenhuma sociedade se desenvolve sem respeitar esses preceitos.O cidadao de bem merece dispor de meios para se defender, respeitando o referendo de 2005, quando optou, nas urnas, pelo direito a legitima defesa.Vamos honrar e valorizar aqueles que sacrificam suas vidas em nome de nossa seguranca e da seguranca dos nossos familiares.Contamos com o apoio do Congresso Nacional para dar o respaldo juridico para os policiais realizarem o seu trabalho.Eles merecem e devem ser respeitados!Nossas Forcas Armadas terao as condicoes necessarias para cumprir sua missao constitucional de defesa da soberania, do territorio nacional e das instituicoes democraticas, mantendo suas capacidades dissuasorias para resguardar nossa soberania e proteger nossas fronteiras.Montamos nossa equipe de forma tecnica, sem o tradicional vies politico que tornou o Estado ineficiente e corrupto.Vamos valorizar o Parlamento, resgatando a legitimidade e a credibilidade do Congresso Nacional.Na economia traremos a marca da confianca, do interesse nacional, do livre mercado e da eficiencia.Confianca no cumprimento de que o governo nao gastara mais do que arrecada e na garantia de que as regras, os contratos e as propriedades serao respeitados.Realizaremos reformas estruturantes, que serao essenciais para a saude financeira e sustentabilidade das contas publicas, transformando o cenario economico e abrindo novas oportunidades.Precisamos criar um circulo virtuoso para a economia que traga a confianca necessaria para permitir abrir nossos mercados para o comercio internacional, estimulando a competicao, a produtividade e a eficacia, sem o vies ideologico.Nesse processo de recuperacao do crescimento, o setor agropecuario seguira desempenhando um papel decisivo, em perfeita harmonia com a preservacao do meio ambiente.Dessa forma, todo setor produtivo tera um aumento da eficiencia, com menos regulamentacao e burocracia.Esses desafios so serao resolvidos mediante um verdadeiro pacto nacional entre a sociedade e os Poderes Executivo, Legislativo e Judiciario, na busca de novos caminhos para um novo Brasil.Uma de minhas prioridades e proteger e revigorar a democracia brasileira, trabalhando arduamente para que ela deixe de ser apenas uma promessa formal e distante e passe a ser um componente substancial e tangivel da vida politica brasileira, com o respeito ao Estado Democratico.A construcao de uma nacao mais justa e desenvolvida requer a ruptura com praticas que se mostram nefastas para todos nos, maculando a classe politica e atrasando o progresso.A irresponsabilidade nos conduziu a maior crise etica, moral e economica de nossa historia.Hoje comecamos um trabalho arduo para que o Brasil inicie um novo capitulo de sua historia.Um capitulo no qual o Brasil sera visto como um Pais forte, pujante, confiante e ousado.A politica externa retomara o seu papel na defesa da soberania, na construcao da grandeza e no fomento ao desenvolvimento do Brasil.Senhoras e senhores Congressistas,Deixo esta casa, rumo ao Palacio do Planalto, com a missao de representar o povo brasileiro.Com a bencao de Deus, o apoio da minha familia e a forca do povo brasileiro, trabalharei incansavelmente para que o Brasil se encontre com o seu destino e se torne a grande nacao que todos queremos.Muito obrigado a todos voces.Brasil acima de tudo!Deus acima de todos! Ouca a integra do discurso (09min42s) do Presidente Jair Bolsonaro'"
      ]
     },
     "execution_count": 11,
     "metadata": {},
     "output_type": "execute_result"
    }
   ],
   "source": [
    "content = df['content'][0]\n",
    "content"
   ]
  }
 ],
 "metadata": {
  "kernelspec": {
   "display_name": "Python 3",
   "language": "python",
   "name": "python3"
  },
  "language_info": {
   "codemirror_mode": {
    "name": "ipython",
    "version": 3
   },
   "file_extension": ".py",
   "mimetype": "text/x-python",
   "name": "python",
   "nbconvert_exporter": "python",
   "pygments_lexer": "ipython3",
   "version": "3.7.0"
  }
 },
 "nbformat": 4,
 "nbformat_minor": 4
}
