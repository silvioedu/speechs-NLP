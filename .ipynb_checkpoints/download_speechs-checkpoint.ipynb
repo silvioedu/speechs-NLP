{
 "cells": [
  {
   "cell_type": "code",
   "execution_count": 1,
   "metadata": {},
   "outputs": [
    {
     "name": "stdout",
     "output_type": "stream",
     "text": [
      "Requirement already satisfied: unidecode in c:\\users\\silvio\\anaconda3\\lib\\site-packages (1.2.0)\n"
     ]
    }
   ],
   "source": [
    "!pip install unidecode"
   ]
  },
  {
   "cell_type": "code",
   "execution_count": 2,
   "metadata": {},
   "outputs": [
    {
     "name": "stderr",
     "output_type": "stream",
     "text": [
      "C:\\Users\\silvio\\Anaconda3\\lib\\site-packages\\sklearn\\feature_extraction\\image.py:167: DeprecationWarning: `np.int` is a deprecated alias for the builtin `int`. To silence this warning, use `int` by itself. Doing this will not modify any behavior and is safe. When replacing `np.int`, you may wish to use e.g. `np.int64` or `np.int32` to specify the precision. If you wish to review your current use, check the release note link for additional information.\n",
      "Deprecated in NumPy 1.20; for more details and guidance: https://numpy.org/devdocs/release/1.20.0-notes.html#deprecations\n",
      "  dtype=np.int):\n",
      "C:\\Users\\silvio\\Anaconda3\\lib\\site-packages\\sklearn\\feature_extraction\\text.py:17: DeprecationWarning: Using or importing the ABCs from 'collections' instead of from 'collections.abc' is deprecated, and in 3.8 it will stop working\n",
      "  from collections import Mapping, defaultdict\n",
      "C:\\Users\\silvio\\Anaconda3\\lib\\site-packages\\sklearn\\linear_model\\least_angle.py:35: DeprecationWarning: `np.float` is a deprecated alias for the builtin `float`. To silence this warning, use `float` by itself. Doing this will not modify any behavior and is safe. If you specifically wanted the numpy scalar type, use `np.float64` here.\n",
      "Deprecated in NumPy 1.20; for more details and guidance: https://numpy.org/devdocs/release/1.20.0-notes.html#deprecations\n",
      "  eps=np.finfo(np.float).eps,\n",
      "C:\\Users\\silvio\\Anaconda3\\lib\\site-packages\\sklearn\\linear_model\\least_angle.py:597: DeprecationWarning: `np.float` is a deprecated alias for the builtin `float`. To silence this warning, use `float` by itself. Doing this will not modify any behavior and is safe. If you specifically wanted the numpy scalar type, use `np.float64` here.\n",
      "Deprecated in NumPy 1.20; for more details and guidance: https://numpy.org/devdocs/release/1.20.0-notes.html#deprecations\n",
      "  eps=np.finfo(np.float).eps, copy_X=True, fit_path=True,\n",
      "C:\\Users\\silvio\\Anaconda3\\lib\\site-packages\\sklearn\\linear_model\\least_angle.py:836: DeprecationWarning: `np.float` is a deprecated alias for the builtin `float`. To silence this warning, use `float` by itself. Doing this will not modify any behavior and is safe. If you specifically wanted the numpy scalar type, use `np.float64` here.\n",
      "Deprecated in NumPy 1.20; for more details and guidance: https://numpy.org/devdocs/release/1.20.0-notes.html#deprecations\n",
      "  eps=np.finfo(np.float).eps, copy_X=True, fit_path=True,\n",
      "C:\\Users\\silvio\\Anaconda3\\lib\\site-packages\\sklearn\\linear_model\\least_angle.py:862: DeprecationWarning: `np.float` is a deprecated alias for the builtin `float`. To silence this warning, use `float` by itself. Doing this will not modify any behavior and is safe. If you specifically wanted the numpy scalar type, use `np.float64` here.\n",
      "Deprecated in NumPy 1.20; for more details and guidance: https://numpy.org/devdocs/release/1.20.0-notes.html#deprecations\n",
      "  eps=np.finfo(np.float).eps, positive=False):\n",
      "C:\\Users\\silvio\\Anaconda3\\lib\\site-packages\\sklearn\\linear_model\\least_angle.py:1074: DeprecationWarning: `np.float` is a deprecated alias for the builtin `float`. To silence this warning, use `float` by itself. Doing this will not modify any behavior and is safe. If you specifically wanted the numpy scalar type, use `np.float64` here.\n",
      "Deprecated in NumPy 1.20; for more details and guidance: https://numpy.org/devdocs/release/1.20.0-notes.html#deprecations\n",
      "  max_n_alphas=1000, n_jobs=1, eps=np.finfo(np.float).eps,\n",
      "C:\\Users\\silvio\\Anaconda3\\lib\\site-packages\\sklearn\\linear_model\\least_angle.py:1306: DeprecationWarning: `np.float` is a deprecated alias for the builtin `float`. To silence this warning, use `float` by itself. Doing this will not modify any behavior and is safe. If you specifically wanted the numpy scalar type, use `np.float64` here.\n",
      "Deprecated in NumPy 1.20; for more details and guidance: https://numpy.org/devdocs/release/1.20.0-notes.html#deprecations\n",
      "  max_n_alphas=1000, n_jobs=1, eps=np.finfo(np.float).eps,\n",
      "C:\\Users\\silvio\\Anaconda3\\lib\\site-packages\\sklearn\\linear_model\\least_angle.py:1442: DeprecationWarning: `np.float` is a deprecated alias for the builtin `float`. To silence this warning, use `float` by itself. Doing this will not modify any behavior and is safe. If you specifically wanted the numpy scalar type, use `np.float64` here.\n",
      "Deprecated in NumPy 1.20; for more details and guidance: https://numpy.org/devdocs/release/1.20.0-notes.html#deprecations\n",
      "  eps=np.finfo(np.float).eps, copy_X=True, positive=False):\n",
      "C:\\Users\\silvio\\Anaconda3\\lib\\site-packages\\sklearn\\linear_model\\randomized_l1.py:152: DeprecationWarning: `np.float` is a deprecated alias for the builtin `float`. To silence this warning, use `float` by itself. Doing this will not modify any behavior and is safe. If you specifically wanted the numpy scalar type, use `np.float64` here.\n",
      "Deprecated in NumPy 1.20; for more details and guidance: https://numpy.org/devdocs/release/1.20.0-notes.html#deprecations\n",
      "  precompute=False, eps=np.finfo(np.float).eps,\n",
      "C:\\Users\\silvio\\Anaconda3\\lib\\site-packages\\sklearn\\linear_model\\randomized_l1.py:318: DeprecationWarning: `np.float` is a deprecated alias for the builtin `float`. To silence this warning, use `float` by itself. Doing this will not modify any behavior and is safe. If you specifically wanted the numpy scalar type, use `np.float64` here.\n",
      "Deprecated in NumPy 1.20; for more details and guidance: https://numpy.org/devdocs/release/1.20.0-notes.html#deprecations\n",
      "  eps=np.finfo(np.float).eps, random_state=None,\n",
      "C:\\Users\\silvio\\Anaconda3\\lib\\site-packages\\sklearn\\linear_model\\randomized_l1.py:575: DeprecationWarning: `np.float` is a deprecated alias for the builtin `float`. To silence this warning, use `float` by itself. Doing this will not modify any behavior and is safe. If you specifically wanted the numpy scalar type, use `np.float64` here.\n",
      "Deprecated in NumPy 1.20; for more details and guidance: https://numpy.org/devdocs/release/1.20.0-notes.html#deprecations\n",
      "  eps=4 * np.finfo(np.float).eps, n_jobs=1,\n"
     ]
    }
   ],
   "source": [
    "import warnings\n",
    "import requests as req\n",
    "import numpy as np\n",
    "import pandas as pd\n",
    "import os\n",
    "import json\n",
    "import nltk\n",
    "\n",
    "from bs4 import BeautifulSoup\n",
    "from unidecode import unidecode\n",
    "\n",
    "warnings.filterwarnings('ignore')"
   ]
  },
  {
   "cell_type": "markdown",
   "metadata": {},
   "source": [
    "## Constants definitions"
   ]
  },
  {
   "cell_type": "code",
   "execution_count": 3,
   "metadata": {},
   "outputs": [],
   "source": [
    "URL = 'https://www.gov.br/planalto/pt-br/acompanhe-o-planalto/discursos'\n",
    "JSON_DIR = 'speechs'"
   ]
  },
  {
   "cell_type": "markdown",
   "metadata": {},
   "source": [
    "## Functions"
   ]
  },
  {
   "cell_type": "code",
   "execution_count": 4,
   "metadata": {},
   "outputs": [],
   "source": [
    "def get_url(url):\n",
    "    response = req.get(url)\n",
    "    if response.status_code != 200:\n",
    "        print(f'Error {response.status_code} fetching {url}')\n",
    "\n",
    "    return BeautifulSoup(response.text)\n",
    "\n",
    "def create_savedir(dir):\n",
    "    try:\n",
    "        os.makedirs(dir)\n",
    "        print('Directory created successfully')\n",
    "    except OSError:\n",
    "        print('Directory already exists')\n"
   ]
  },
  {
   "cell_type": "markdown",
   "metadata": {},
   "source": [
    "## Classes"
   ]
  },
  {
   "cell_type": "code",
   "execution_count": 5,
   "metadata": {},
   "outputs": [],
   "source": [
    "class WebPage():\n",
    "\n",
    "    def __init__(self, url):\n",
    "        self.url = url\n",
    "        self.max_page = self.number_of_pages()\n",
    "        self.pages_list = self.pages_list()\n",
    "        \n",
    "    def number_of_pages(self):\n",
    "        bs = get_url(self.url)\n",
    "        pagination = bs.find(class_='paginacao listingBar')\n",
    "        max_page = np.array([int(page_index.text) \n",
    "                             for page_index in pagination.find_all('a', href=True) \n",
    "                             if page_index.text.isdecimal()]).max()\n",
    "        return int(max_page)\n",
    "\n",
    "    def pages_list(self):\n",
    "        pages_list = []\n",
    "        prefix = '?b_start:int='\n",
    "        [pages_list.append(self.url + prefix + str(idx * 30)) for idx in range(self.max_page)]\n",
    "        return pages_list\n",
    "    \n",
    "    def save_articles(self):\n",
    "        for page_url in self.pages_list:\n",
    "            print(f'Saving articles from {page_url}')\n",
    "            bs = get_url(page_url)\n",
    "\n",
    "            articles = []\n",
    "            for article in bs.find_all('article'):\n",
    "                article = Article(article)\n",
    "                article.save_to_json(JSON_DIR)\n",
    "\n",
    "        print('Articles saved sucessfully')"
   ]
  },
  {
   "cell_type": "code",
   "execution_count": 6,
   "metadata": {},
   "outputs": [],
   "source": [
    "class Article():\n",
    "    \n",
    "    def __init__(self, article=None):\n",
    "        \n",
    "        if article is not None:\n",
    "            self.link = article.find(class_='summary url')['href']\n",
    "\n",
    "            datetime = article.find_all(class_='summary-view-icon')\n",
    "            date = datetime[0].text.strip()\n",
    "            self.date = \"\".join(reversed(date.split('/')))\n",
    "\n",
    "            self.time = datetime[1].text.strip()\n",
    "\n",
    "            content = get_url(self.link).find(id='parent-fieldname-text').text.strip()\n",
    "            self.content = unidecode(content).replace('\\n','')\n",
    "    \n",
    "    def __str__(self):\n",
    "        return f'Article link:{self.link}, date:{self.date}, time:{self.time}, content:{self.content}'\n",
    "\n",
    "    def save_to_json(self, folder):\n",
    "        path = os.path.join(folder, f'{self.date}-{self.time}.json')\n",
    "        with open(path, 'w') as file:\n",
    "            json.dump(self.__dict__, file)\n",
    "\n",
    "    def load_from_json(folder):\n",
    "        files = os.listdir(folder)\n",
    "        \n",
    "        articles = []\n",
    "        for file in files:\n",
    "            path = os.path.join(folder, file)\n",
    "            with open(path, 'r') as file:\n",
    "                data = json.load(file)\n",
    "                article = Article()\n",
    "                article.link = data['link']\n",
    "                article.date = data['date']\n",
    "                article.time = data['time']\n",
    "                article.content = data['content']\n",
    "                articles.append(article.__dict__)\n",
    "        print(f'{len(articles)} articles loaded sucessfully')\n",
    "        return articles\n",
    "                "
   ]
  },
  {
   "cell_type": "markdown",
   "metadata": {},
   "source": [
    "## Load and save process"
   ]
  },
  {
   "cell_type": "code",
   "execution_count": 7,
   "metadata": {},
   "outputs": [
    {
     "name": "stdout",
     "output_type": "stream",
     "text": [
      "Directory created successfully\n"
     ]
    }
   ],
   "source": [
    "create_savedir(JSON_DIR)"
   ]
  },
  {
   "cell_type": "code",
   "execution_count": null,
   "metadata": {},
   "outputs": [
    {
     "name": "stdout",
     "output_type": "stream",
     "text": [
      "Saving articles from https://www.gov.br/planalto/pt-br/acompanhe-o-planalto/discursos?b_start:int=0\n",
      "Saving articles from https://www.gov.br/planalto/pt-br/acompanhe-o-planalto/discursos?b_start:int=30\n",
      "Saving articles from https://www.gov.br/planalto/pt-br/acompanhe-o-planalto/discursos?b_start:int=60\n",
      "Saving articles from https://www.gov.br/planalto/pt-br/acompanhe-o-planalto/discursos?b_start:int=90\n",
      "Saving articles from https://www.gov.br/planalto/pt-br/acompanhe-o-planalto/discursos?b_start:int=120\n"
     ]
    }
   ],
   "source": [
    "webpage = WebPage(URL)\n",
    "webpage.save_articles()"
   ]
  },
  {
   "cell_type": "markdown",
   "metadata": {},
   "source": [
    "## Load process"
   ]
  },
  {
   "cell_type": "code",
   "execution_count": null,
   "metadata": {},
   "outputs": [],
   "source": [
    "articles = Article.load_from_json(JSON_DIR)"
   ]
  },
  {
   "cell_type": "code",
   "execution_count": null,
   "metadata": {},
   "outputs": [],
   "source": [
    "df = pd.DataFrame(articles)\n",
    "df"
   ]
  },
  {
   "cell_type": "code",
   "execution_count": null,
   "metadata": {},
   "outputs": [],
   "source": [
    "content = df['content'][0]\n",
    "content"
   ]
  }
 ],
 "metadata": {
  "kernelspec": {
   "display_name": "Python 3",
   "language": "python",
   "name": "python3"
  },
  "language_info": {
   "codemirror_mode": {
    "name": "ipython",
    "version": 3
   },
   "file_extension": ".py",
   "mimetype": "text/x-python",
   "name": "python",
   "nbconvert_exporter": "python",
   "pygments_lexer": "ipython3",
   "version": "3.7.0"
  }
 },
 "nbformat": 4,
 "nbformat_minor": 4
}
